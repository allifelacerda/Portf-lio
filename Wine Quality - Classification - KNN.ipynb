{
 "cells": [
  {
   "cell_type": "markdown",
   "id": "6e6f4fe4",
   "metadata": {},
   "source": [
    "Autor: ÁLLIFE LICIO LACERDA<BR>\n",
    "**Utilizando machine learning para determinar qualidade do vinho.**"
   ]
  },
  {
   "cell_type": "markdown",
   "id": "5214b155",
   "metadata": {},
   "source": [
    "**Dados:**\n",
    "\n",
    "https://www.kaggle.com/yasserh/wine-quality-dataset"
   ]
  },
  {
   "cell_type": "markdown",
   "id": "2d033ea3",
   "metadata": {},
   "source": [
    "**Variaveis de entrada:**\n",
    "    \n",
    "* fixed acidity\n",
    "* volatile acidity\n",
    "* citric acid\n",
    "* residual sugar\n",
    "* chlorides\n",
    "* free sulfur dioxide\n",
    "* total sulfur dioxide\n",
    "* density\n",
    "* pH\n",
    "* sulphates\n",
    "* alcohol\n",
    "* quality"
   ]
  },
  {
   "cell_type": "code",
   "execution_count": 124,
   "id": "f66a9470",
   "metadata": {},
   "outputs": [],
   "source": [
    "import pandas as pd\n",
    "import numpy as np\n",
    "\n",
    "import matplotlib.pyplot as plt\n",
    "import seaborn as sns\n",
    "\n",
    "from sklearn.model_selection import train_test_split\n",
    "from sklearn.preprocessing import MinMaxScaler\n",
    "from sklearn.neighbors import KNeighborsClassifier\n",
    "from sklearn.model_selection import cross_val_predict\n",
    "from sklearn import metrics\n",
    "import warnings\n",
    "warnings.filterwarnings('ignore')\n",
    "%matplotlib inline"
   ]
  },
  {
   "cell_type": "code",
   "execution_count": 125,
   "id": "0d118fa3",
   "metadata": {},
   "outputs": [],
   "source": [
    "df = pd.read_csv('Datasets/WineQT.csv')"
   ]
  },
  {
   "cell_type": "code",
   "execution_count": 126,
   "id": "4a3e7545",
   "metadata": {},
   "outputs": [
    {
     "data": {
      "text/html": [
       "<div>\n",
       "<style scoped>\n",
       "    .dataframe tbody tr th:only-of-type {\n",
       "        vertical-align: middle;\n",
       "    }\n",
       "\n",
       "    .dataframe tbody tr th {\n",
       "        vertical-align: top;\n",
       "    }\n",
       "\n",
       "    .dataframe thead th {\n",
       "        text-align: right;\n",
       "    }\n",
       "</style>\n",
       "<table border=\"1\" class=\"dataframe\">\n",
       "  <thead>\n",
       "    <tr style=\"text-align: right;\">\n",
       "      <th></th>\n",
       "      <th>fixed acidity</th>\n",
       "      <th>volatile acidity</th>\n",
       "      <th>citric acid</th>\n",
       "      <th>residual sugar</th>\n",
       "      <th>chlorides</th>\n",
       "      <th>free sulfur dioxide</th>\n",
       "      <th>total sulfur dioxide</th>\n",
       "      <th>density</th>\n",
       "      <th>pH</th>\n",
       "      <th>sulphates</th>\n",
       "      <th>alcohol</th>\n",
       "      <th>quality</th>\n",
       "      <th>Id</th>\n",
       "    </tr>\n",
       "  </thead>\n",
       "  <tbody>\n",
       "    <tr>\n",
       "      <th>0</th>\n",
       "      <td>7.4</td>\n",
       "      <td>0.70</td>\n",
       "      <td>0.00</td>\n",
       "      <td>1.9</td>\n",
       "      <td>0.076</td>\n",
       "      <td>11.0</td>\n",
       "      <td>34.0</td>\n",
       "      <td>0.9978</td>\n",
       "      <td>3.51</td>\n",
       "      <td>0.56</td>\n",
       "      <td>9.4</td>\n",
       "      <td>5</td>\n",
       "      <td>0</td>\n",
       "    </tr>\n",
       "    <tr>\n",
       "      <th>1</th>\n",
       "      <td>7.8</td>\n",
       "      <td>0.88</td>\n",
       "      <td>0.00</td>\n",
       "      <td>2.6</td>\n",
       "      <td>0.098</td>\n",
       "      <td>25.0</td>\n",
       "      <td>67.0</td>\n",
       "      <td>0.9968</td>\n",
       "      <td>3.20</td>\n",
       "      <td>0.68</td>\n",
       "      <td>9.8</td>\n",
       "      <td>5</td>\n",
       "      <td>1</td>\n",
       "    </tr>\n",
       "    <tr>\n",
       "      <th>2</th>\n",
       "      <td>7.8</td>\n",
       "      <td>0.76</td>\n",
       "      <td>0.04</td>\n",
       "      <td>2.3</td>\n",
       "      <td>0.092</td>\n",
       "      <td>15.0</td>\n",
       "      <td>54.0</td>\n",
       "      <td>0.9970</td>\n",
       "      <td>3.26</td>\n",
       "      <td>0.65</td>\n",
       "      <td>9.8</td>\n",
       "      <td>5</td>\n",
       "      <td>2</td>\n",
       "    </tr>\n",
       "    <tr>\n",
       "      <th>3</th>\n",
       "      <td>11.2</td>\n",
       "      <td>0.28</td>\n",
       "      <td>0.56</td>\n",
       "      <td>1.9</td>\n",
       "      <td>0.075</td>\n",
       "      <td>17.0</td>\n",
       "      <td>60.0</td>\n",
       "      <td>0.9980</td>\n",
       "      <td>3.16</td>\n",
       "      <td>0.58</td>\n",
       "      <td>9.8</td>\n",
       "      <td>6</td>\n",
       "      <td>3</td>\n",
       "    </tr>\n",
       "    <tr>\n",
       "      <th>4</th>\n",
       "      <td>7.4</td>\n",
       "      <td>0.70</td>\n",
       "      <td>0.00</td>\n",
       "      <td>1.9</td>\n",
       "      <td>0.076</td>\n",
       "      <td>11.0</td>\n",
       "      <td>34.0</td>\n",
       "      <td>0.9978</td>\n",
       "      <td>3.51</td>\n",
       "      <td>0.56</td>\n",
       "      <td>9.4</td>\n",
       "      <td>5</td>\n",
       "      <td>4</td>\n",
       "    </tr>\n",
       "  </tbody>\n",
       "</table>\n",
       "</div>"
      ],
      "text/plain": [
       "   fixed acidity  volatile acidity  citric acid  residual sugar  chlorides  \\\n",
       "0            7.4              0.70         0.00             1.9      0.076   \n",
       "1            7.8              0.88         0.00             2.6      0.098   \n",
       "2            7.8              0.76         0.04             2.3      0.092   \n",
       "3           11.2              0.28         0.56             1.9      0.075   \n",
       "4            7.4              0.70         0.00             1.9      0.076   \n",
       "\n",
       "   free sulfur dioxide  total sulfur dioxide  density    pH  sulphates  \\\n",
       "0                 11.0                  34.0   0.9978  3.51       0.56   \n",
       "1                 25.0                  67.0   0.9968  3.20       0.68   \n",
       "2                 15.0                  54.0   0.9970  3.26       0.65   \n",
       "3                 17.0                  60.0   0.9980  3.16       0.58   \n",
       "4                 11.0                  34.0   0.9978  3.51       0.56   \n",
       "\n",
       "   alcohol  quality  Id  \n",
       "0      9.4        5   0  \n",
       "1      9.8        5   1  \n",
       "2      9.8        5   2  \n",
       "3      9.8        6   3  \n",
       "4      9.4        5   4  "
      ]
     },
     "execution_count": 126,
     "metadata": {},
     "output_type": "execute_result"
    }
   ],
   "source": [
    "df.head()"
   ]
  },
  {
   "cell_type": "markdown",
   "id": "484e48c4",
   "metadata": {},
   "source": [
    "# Removendo coluna desnecessária (Id)"
   ]
  },
  {
   "cell_type": "code",
   "execution_count": 127,
   "id": "ff6576fc",
   "metadata": {},
   "outputs": [],
   "source": [
    "df.drop('Id', axis = 1, inplace = True)"
   ]
  },
  {
   "cell_type": "markdown",
   "id": "7e213a39",
   "metadata": {},
   "source": [
    "# Visualizando classes"
   ]
  },
  {
   "cell_type": "code",
   "execution_count": 128,
   "id": "c9af7091",
   "metadata": {},
   "outputs": [
    {
     "data": {
      "text/plain": [
       "<AxesSubplot:xlabel='quality', ylabel='count'>"
      ]
     },
     "execution_count": 128,
     "metadata": {},
     "output_type": "execute_result"
    },
    {
     "data": {
      "image/png": "[encoded data removed]",
      "text/plain": [
       "<Figure size 432x288 with 1 Axes>"
      ]
     },
     "metadata": {
      "needs_background": "light"
     },
     "output_type": "display_data"
    }
   ],
   "source": [
    "sns.countplot(df.quality)"
   ]
  },
  {
   "cell_type": "markdown",
   "id": "a3ae2c66",
   "metadata": {},
   "source": [
    "### Nota: a qualidade é uma pontuação de 0 a 10"
   ]
  },
  {
   "cell_type": "code",
   "execution_count": 129,
   "id": "411d506a",
   "metadata": {},
   "outputs": [
    {
     "data": {
      "text/html": [
       "<div>\n",
       "<style scoped>\n",
       "    .dataframe tbody tr th:only-of-type {\n",
       "        vertical-align: middle;\n",
       "    }\n",
       "\n",
       "    .dataframe tbody tr th {\n",
       "        vertical-align: top;\n",
       "    }\n",
       "\n",
       "    .dataframe thead th {\n",
       "        text-align: right;\n",
       "    }\n",
       "</style>\n",
       "<table border=\"1\" class=\"dataframe\">\n",
       "  <thead>\n",
       "    <tr style=\"text-align: right;\">\n",
       "      <th></th>\n",
       "      <th>fixed acidity</th>\n",
       "      <th>volatile acidity</th>\n",
       "      <th>citric acid</th>\n",
       "      <th>residual sugar</th>\n",
       "      <th>chlorides</th>\n",
       "      <th>free sulfur dioxide</th>\n",
       "      <th>total sulfur dioxide</th>\n",
       "      <th>density</th>\n",
       "      <th>pH</th>\n",
       "      <th>sulphates</th>\n",
       "      <th>alcohol</th>\n",
       "      <th>quality</th>\n",
       "    </tr>\n",
       "  </thead>\n",
       "  <tbody>\n",
       "    <tr>\n",
       "      <th>0</th>\n",
       "      <td>7.4</td>\n",
       "      <td>0.70</td>\n",
       "      <td>0.00</td>\n",
       "      <td>1.9</td>\n",
       "      <td>0.076</td>\n",
       "      <td>11.0</td>\n",
       "      <td>34.0</td>\n",
       "      <td>0.9978</td>\n",
       "      <td>3.51</td>\n",
       "      <td>0.56</td>\n",
       "      <td>9.4</td>\n",
       "      <td>5</td>\n",
       "    </tr>\n",
       "    <tr>\n",
       "      <th>1</th>\n",
       "      <td>7.8</td>\n",
       "      <td>0.88</td>\n",
       "      <td>0.00</td>\n",
       "      <td>2.6</td>\n",
       "      <td>0.098</td>\n",
       "      <td>25.0</td>\n",
       "      <td>67.0</td>\n",
       "      <td>0.9968</td>\n",
       "      <td>3.20</td>\n",
       "      <td>0.68</td>\n",
       "      <td>9.8</td>\n",
       "      <td>5</td>\n",
       "    </tr>\n",
       "    <tr>\n",
       "      <th>2</th>\n",
       "      <td>7.8</td>\n",
       "      <td>0.76</td>\n",
       "      <td>0.04</td>\n",
       "      <td>2.3</td>\n",
       "      <td>0.092</td>\n",
       "      <td>15.0</td>\n",
       "      <td>54.0</td>\n",
       "      <td>0.9970</td>\n",
       "      <td>3.26</td>\n",
       "      <td>0.65</td>\n",
       "      <td>9.8</td>\n",
       "      <td>5</td>\n",
       "    </tr>\n",
       "    <tr>\n",
       "      <th>3</th>\n",
       "      <td>11.2</td>\n",
       "      <td>0.28</td>\n",
       "      <td>0.56</td>\n",
       "      <td>1.9</td>\n",
       "      <td>0.075</td>\n",
       "      <td>17.0</td>\n",
       "      <td>60.0</td>\n",
       "      <td>0.9980</td>\n",
       "      <td>3.16</td>\n",
       "      <td>0.58</td>\n",
       "      <td>9.8</td>\n",
       "      <td>6</td>\n",
       "    </tr>\n",
       "    <tr>\n",
       "      <th>4</th>\n",
       "      <td>7.4</td>\n",
       "      <td>0.70</td>\n",
       "      <td>0.00</td>\n",
       "      <td>1.9</td>\n",
       "      <td>0.076</td>\n",
       "      <td>11.0</td>\n",
       "      <td>34.0</td>\n",
       "      <td>0.9978</td>\n",
       "      <td>3.51</td>\n",
       "      <td>0.56</td>\n",
       "      <td>9.4</td>\n",
       "      <td>5</td>\n",
       "    </tr>\n",
       "  </tbody>\n",
       "</table>\n",
       "</div>"
      ],
      "text/plain": [
       "   fixed acidity  volatile acidity  citric acid  residual sugar  chlorides  \\\n",
       "0            7.4              0.70         0.00             1.9      0.076   \n",
       "1            7.8              0.88         0.00             2.6      0.098   \n",
       "2            7.8              0.76         0.04             2.3      0.092   \n",
       "3           11.2              0.28         0.56             1.9      0.075   \n",
       "4            7.4              0.70         0.00             1.9      0.076   \n",
       "\n",
       "   free sulfur dioxide  total sulfur dioxide  density    pH  sulphates  \\\n",
       "0                 11.0                  34.0   0.9978  3.51       0.56   \n",
       "1                 25.0                  67.0   0.9968  3.20       0.68   \n",
       "2                 15.0                  54.0   0.9970  3.26       0.65   \n",
       "3                 17.0                  60.0   0.9980  3.16       0.58   \n",
       "4                 11.0                  34.0   0.9978  3.51       0.56   \n",
       "\n",
       "   alcohol  quality  \n",
       "0      9.4        5  \n",
       "1      9.8        5  \n",
       "2      9.8        5  \n",
       "3      9.8        6  \n",
       "4      9.4        5  "
      ]
     },
     "execution_count": 129,
     "metadata": {},
     "output_type": "execute_result"
    }
   ],
   "source": [
    "df.head()"
   ]
  },
  {
   "cell_type": "markdown",
   "id": "c63526fa",
   "metadata": {},
   "source": [
    "# Verificar se nosso dataset tem linhas duplicadas"
   ]
  },
  {
   "cell_type": "code",
   "execution_count": 130,
   "id": "d5c5eaa0",
   "metadata": {},
   "outputs": [
    {
     "data": {
      "text/plain": [
       "False    1018\n",
       "True      125\n",
       "dtype: int64"
      ]
     },
     "execution_count": 130,
     "metadata": {},
     "output_type": "execute_result"
    }
   ],
   "source": [
    "df.duplicated().value_counts()"
   ]
  },
  {
   "cell_type": "markdown",
   "id": "6047a4a4",
   "metadata": {},
   "source": [
    "# Removendo linhas duplicadas"
   ]
  },
  {
   "cell_type": "code",
   "execution_count": 131,
   "id": "83ee43b1",
   "metadata": {},
   "outputs": [],
   "source": [
    "df.drop_duplicates(inplace = True)"
   ]
  },
  {
   "cell_type": "markdown",
   "id": "b4103e27",
   "metadata": {},
   "source": [
    "# Separando em treino/teste"
   ]
  },
  {
   "cell_type": "code",
   "execution_count": 132,
   "id": "d08489ab",
   "metadata": {},
   "outputs": [],
   "source": [
    "X_train, X_test, y_train, y_test = train_test_split(df.drop('quality', axis = 1), df['quality'], test_size=0.3)"
   ]
  },
  {
   "cell_type": "code",
   "execution_count": 133,
   "id": "a99ed161",
   "metadata": {},
   "outputs": [
    {
     "data": {
      "text/plain": [
       "(712, 11)"
      ]
     },
     "metadata": {},
     "output_type": "display_data"
    },
    {
     "data": {
      "text/plain": [
       "(306, 11)"
      ]
     },
     "metadata": {},
     "output_type": "display_data"
    }
   ],
   "source": [
    "display(X_train.shape, X_test.shape)"
   ]
  },
  {
   "cell_type": "code",
   "execution_count": 134,
   "id": "8727939f",
   "metadata": {},
   "outputs": [
    {
     "data": {
      "text/plain": [
       "(712,)"
      ]
     },
     "metadata": {},
     "output_type": "display_data"
    },
    {
     "data": {
      "text/plain": [
       "(306,)"
      ]
     },
     "metadata": {},
     "output_type": "display_data"
    }
   ],
   "source": [
    "display(y_train.shape, y_test.shape)"
   ]
  },
  {
   "cell_type": "markdown",
   "id": "17279714",
   "metadata": {},
   "source": [
    "# Normalizando os dados de entrada"
   ]
  },
  {
   "cell_type": "code",
   "execution_count": 135,
   "id": "8bbd02a3",
   "metadata": {},
   "outputs": [],
   "source": [
    "scaler = MinMaxScaler()"
   ]
  },
  {
   "cell_type": "code",
   "execution_count": 136,
   "id": "90e81a9e",
   "metadata": {},
   "outputs": [],
   "source": [
    "X_train = scaler.fit_transform(X_train)\n",
    "X_test = scaler.fit_transform(X_test)"
   ]
  },
  {
   "cell_type": "markdown",
   "id": "ae28025e",
   "metadata": {},
   "source": [
    "# Criando classificador com k = 3"
   ]
  },
  {
   "cell_type": "code",
   "execution_count": 137,
   "id": "9f7ecc0b",
   "metadata": {},
   "outputs": [],
   "source": [
    "MODELO_KNN = KNeighborsClassifier(n_neighbors=3)"
   ]
  },
  {
   "cell_type": "markdown",
   "id": "a26b3e35",
   "metadata": {},
   "source": [
    "# Treinando o modelo"
   ]
  },
  {
   "cell_type": "code",
   "execution_count": 138,
   "id": "6176b6c4",
   "metadata": {},
   "outputs": [
    {
     "data": {
      "text/plain": [
       "KNeighborsClassifier(n_neighbors=3)"
      ]
     },
     "execution_count": 138,
     "metadata": {},
     "output_type": "execute_result"
    }
   ],
   "source": [
    "MODELO_KNN.fit(X_train, y_train)"
   ]
  },
  {
   "cell_type": "markdown",
   "id": "7788cb36",
   "metadata": {},
   "source": [
    "# Executando o modelo no conjunto de teste"
   ]
  },
  {
   "cell_type": "code",
   "execution_count": 139,
   "id": "ce855c28",
   "metadata": {},
   "outputs": [],
   "source": [
    "resultado = MODELO_KNN.predict(X_test)"
   ]
  },
  {
   "cell_type": "code",
   "execution_count": 140,
   "id": "27307556",
   "metadata": {},
   "outputs": [
    {
     "data": {
      "text/plain": [
       "array([6, 5, 6, 5, 5, 5, 6, 7, 5, 5], dtype=int64)"
      ]
     },
     "execution_count": 140,
     "metadata": {},
     "output_type": "execute_result"
    }
   ],
   "source": [
    "resultado[:10]"
   ]
  },
  {
   "cell_type": "code",
   "execution_count": 141,
   "id": "cb3fd1d0",
   "metadata": {},
   "outputs": [
    {
     "name": "stdout",
     "output_type": "stream",
     "text": [
      "149\n",
      "157\n"
     ]
    }
   ],
   "source": [
    "#contando acertos \"manualmente\"\n",
    "z = zip(resultado, y_test)\n",
    "acertos = 0\n",
    "erros = 0\n",
    "for a,b in z:\n",
    "    if a==b:\n",
    "        acertos+=1\n",
    "    else:\n",
    "        erros+=1\n",
    "print(acertos)\n",
    "print(erros)"
   ]
  },
  {
   "cell_type": "markdown",
   "id": "ec2f33b1",
   "metadata": {},
   "source": [
    "# Verificando acurácia"
   ]
  },
  {
   "cell_type": "code",
   "execution_count": 142,
   "id": "3df7d7de",
   "metadata": {},
   "outputs": [
    {
     "name": "stdout",
     "output_type": "stream",
     "text": [
      "              precision    recall  f1-score   support\n",
      "\n",
      "           3       0.00      0.00      0.00         1\n",
      "           4       0.17      0.08      0.11        13\n",
      "           5       0.50      0.69      0.58       118\n",
      "           6       0.51      0.41      0.45       128\n",
      "           7       0.44      0.38      0.41        39\n",
      "           8       0.00      0.00      0.00         7\n",
      "\n",
      "    accuracy                           0.49       306\n",
      "   macro avg       0.27      0.26      0.26       306\n",
      "weighted avg       0.47      0.49      0.47       306\n",
      "\n"
     ]
    }
   ],
   "source": [
    "print(metrics.classification_report(y_test, resultado))"
   ]
  },
  {
   "cell_type": "code",
   "execution_count": 143,
   "id": "94404191",
   "metadata": {},
   "outputs": [
    {
     "name": "stdout",
     "output_type": "stream",
     "text": [
      "          Predito  3  4    5    6   7  All\n",
      "Real                                      \n",
      "3                  0  0    1    0   0    1\n",
      "4                  0  1    4    7   1   13\n",
      "5                  2  4   81   29   2  118\n",
      "6                  1  1   62   52  12  128\n",
      "7                  0  0   13   11  15   39\n",
      "8                  0  0    1    2   4    7\n",
      "All                3  6  162  101  34  306\n"
     ]
    }
   ],
   "source": [
    "print (pd.crosstab(y_test,resultado, rownames=['Real'], colnames=['          Predito'], margins=True))"
   ]
  },
  {
   "cell_type": "markdown",
   "id": "3eb81789",
   "metadata": {},
   "source": [
    "# Utilizamos k=3 no nosso algoritmo KNN e tivemos 50% de acurácia<br>"
   ]
  },
  {
   "cell_type": "markdown",
   "id": "67c4878a",
   "metadata": {},
   "source": [
    "# Otimizando o parâmetro k com GridSearchCV"
   ]
  },
  {
   "cell_type": "code",
   "execution_count": 144,
   "id": "4b31ce6c",
   "metadata": {},
   "outputs": [],
   "source": [
    "from sklearn.model_selection import GridSearchCV"
   ]
  },
  {
   "cell_type": "markdown",
   "id": "7dfa34c8",
   "metadata": {},
   "source": [
    "# Definindo uma lista de valores a serem testados"
   ]
  },
  {
   "cell_type": "code",
   "execution_count": 145,
   "id": "17057f59",
   "metadata": {},
   "outputs": [],
   "source": [
    "k_list = list(range(1,50))"
   ]
  },
  {
   "cell_type": "code",
   "execution_count": 146,
   "id": "9991233d",
   "metadata": {},
   "outputs": [],
   "source": [
    "#transformando em dicionário\n",
    "k_values = dict(n_neighbors=k_list)\n",
    "#k_values"
   ]
  },
  {
   "cell_type": "markdown",
   "id": "d18eeed0",
   "metadata": {},
   "source": [
    "# Criando objeto GridSearchCV"
   ]
  },
  {
   "cell_type": "code",
   "execution_count": 147,
   "id": "8c6d710c",
   "metadata": {},
   "outputs": [],
   "source": [
    "grid = GridSearchCV(MODELO_KNN, k_values, cv=5, scoring='accuracy')"
   ]
  },
  {
   "cell_type": "code",
   "execution_count": 148,
   "id": "366031c2",
   "metadata": {},
   "outputs": [],
   "source": [
    "x = df.drop('quality', axis=1).values\n",
    "y = df.quality.values"
   ]
  },
  {
   "cell_type": "code",
   "execution_count": 149,
   "id": "e904b400",
   "metadata": {},
   "outputs": [],
   "source": [
    "X = scaler.fit_transform(x)"
   ]
  },
  {
   "cell_type": "markdown",
   "id": "e36d4b58",
   "metadata": {},
   "source": [
    "# Treinando "
   ]
  },
  {
   "cell_type": "code",
   "execution_count": 150,
   "id": "a47b438c",
   "metadata": {},
   "outputs": [
    {
     "data": {
      "text/plain": [
       "GridSearchCV(cv=5, estimator=KNeighborsClassifier(n_neighbors=3),\n",
       "             param_grid={'n_neighbors': [1, 2, 3, 4, 5, 6, 7, 8, 9, 10, 11, 12,\n",
       "                                         13, 14, 15, 16, 17, 18, 19, 20, 21, 22,\n",
       "                                         23, 24, 25, 26, 27, 28, 29, 30, ...]},\n",
       "             scoring='accuracy')"
      ]
     },
     "execution_count": 150,
     "metadata": {},
     "output_type": "execute_result"
    }
   ],
   "source": [
    "grid.fit(X, y)"
   ]
  },
  {
   "cell_type": "markdown",
   "id": "9a7eabc7",
   "metadata": {},
   "source": [
    "# Visualizando os valores de scores"
   ]
  },
  {
   "cell_type": "code",
   "execution_count": 151,
   "id": "1a0d836d",
   "metadata": {},
   "outputs": [
    {
     "data": {
      "text/plain": [
       "{'mean_fit_time': array([0.00079575, 0.00080047, 0.00080123, 0.00079966, 0.00080013,\n",
       "        0.00079908, 0.00099916, 0.00100012, 0.00039897, 0.0010004 ,\n",
       "        0.00080018, 0.00020018, 0.00080047, 0.0010006 , 0.00060043,\n",
       "        0.00080051, 0.00060034, 0.00040002, 0.0010006 , 0.00080051,\n",
       "        0.00040035, 0.00080047, 0.00060048, 0.00060034, 0.00060024,\n",
       "        0.00080605, 0.00098276, 0.00098963, 0.00097675, 0.00100117,\n",
       "        0.00100102, 0.0008009 , 0.00080066, 0.00060062, 0.00080094,\n",
       "        0.00100093, 0.00060062, 0.0008008 , 0.00080075, 0.00100121,\n",
       "        0.00100098, 0.00060067, 0.00100112, 0.00100107, 0.00060058,\n",
       "        0.00080075, 0.00080056, 0.00080042, 0.00060039]),\n",
       " 'std_fit_time': array([3.97968978e-04, 4.00233308e-04, 4.00626838e-04, 3.99828256e-04,\n",
       "        4.00066518e-04, 3.99547019e-04, 1.71528871e-06, 5.09122765e-07,\n",
       "        4.88641623e-04, 3.60950296e-06, 4.00099008e-04, 4.00352478e-04,\n",
       "        4.00233336e-04, 2.33601546e-07, 4.90251785e-04, 4.00257281e-04,\n",
       "        4.90173918e-04, 4.89920847e-04, 3.81469727e-07, 4.00257111e-04,\n",
       "        4.90329667e-04, 4.00233336e-04, 4.90290718e-04, 4.90173964e-04,\n",
       "        4.90096205e-04, 4.03196042e-04, 2.28025902e-05, 1.68191761e-05,\n",
       "        1.16082184e-05, 3.81469727e-07, 6.67572021e-07, 4.00448782e-04,\n",
       "        4.00328959e-04, 4.90407612e-04, 4.00471755e-04, 5.09122765e-07,\n",
       "        4.90407519e-04, 4.00400233e-04, 4.00376331e-04, 1.16800773e-07,\n",
       "        2.86102295e-07, 4.90446468e-04, 1.50789149e-07, 2.33601546e-07,\n",
       "        4.90368586e-04, 4.00376444e-04, 4.00281105e-04, 4.00209498e-04,\n",
       "        4.90212843e-04]),\n",
       " 'mean_score_time': array([0.00580988, 0.00560026, 0.00579753, 0.0058001 , 0.00580091,\n",
       "        0.00599995, 0.0060008 , 0.00579972, 0.00600028, 0.0059999 ,\n",
       "        0.00599394, 0.00599937, 0.00619936, 0.00599923, 0.00619936,\n",
       "        0.00599923, 0.00619931, 0.00639954, 0.00619931, 0.00639925,\n",
       "        0.00659924, 0.00779943, 0.0069994 , 0.00719943, 0.00719943,\n",
       "        0.00680103, 0.0070168 , 0.00701127, 0.00701766, 0.00719862,\n",
       "        0.0069983 , 0.00719848, 0.00719886, 0.00699897, 0.00719886,\n",
       "        0.00739913, 0.00739899, 0.00699911, 0.00719924, 0.00699887,\n",
       "        0.00679893, 0.00739918, 0.00699887, 0.00699892, 0.00699911,\n",
       "        0.0075995 , 0.00739942, 0.0075995 , 0.00739932]),\n",
       " 'std_score_time': array([7.45212678e-04, 4.90507053e-04, 4.01697330e-04, 4.00114187e-04,\n",
       "        4.00880983e-04, 3.23406696e-07, 1.80569613e-06, 4.00161772e-04,\n",
       "        4.80873193e-06, 2.67454217e-06, 1.35043449e-05, 1.78416128e-07,\n",
       "        3.99947177e-04, 2.43140197e-07, 4.00066404e-04, 3.23406696e-07,\n",
       "        4.00209469e-04, 4.89862488e-04, 3.99971037e-04, 4.89901406e-04,\n",
       "        4.90018230e-04, 7.48532152e-04, 6.32485111e-04, 4.00471698e-04,\n",
       "        4.00353444e-04, 4.01573208e-04, 1.31874573e-05, 6.23531303e-04,\n",
       "        2.38734989e-05, 4.00400204e-04, 3.37174788e-07, 4.00114812e-04,\n",
       "        4.00280992e-04, 1.78416128e-07, 4.00161772e-04, 4.89940548e-04,\n",
       "        4.89862488e-04, 4.67203091e-07, 4.00209441e-04, 1.90734863e-07,\n",
       "        4.00042573e-04, 4.90290718e-04, 1.16800773e-07, 1.90734863e-07,\n",
       "        2.43140197e-07, 4.89414951e-04, 4.89901429e-04, 4.89804070e-04,\n",
       "        4.90076589e-04]),\n",
       " 'param_n_neighbors': masked_array(data=[1, 2, 3, 4, 5, 6, 7, 8, 9, 10, 11, 12, 13, 14, 15, 16,\n",
       "                    17, 18, 19, 20, 21, 22, 23, 24, 25, 26, 27, 28, 29, 30,\n",
       "                    31, 32, 33, 34, 35, 36, 37, 38, 39, 40, 41, 42, 43, 44,\n",
       "                    45, 46, 47, 48, 49],\n",
       "              mask=[False, False, False, False, False, False, False, False,\n",
       "                    False, False, False, False, False, False, False, False,\n",
       "                    False, False, False, False, False, False, False, False,\n",
       "                    False, False, False, False, False, False, False, False,\n",
       "                    False, False, False, False, False, False, False, False,\n",
       "                    False, False, False, False, False, False, False, False,\n",
       "                    False],\n",
       "        fill_value='?',\n",
       "             dtype=object),\n",
       " 'params': [{'n_neighbors': 1},\n",
       "  {'n_neighbors': 2},\n",
       "  {'n_neighbors': 3},\n",
       "  {'n_neighbors': 4},\n",
       "  {'n_neighbors': 5},\n",
       "  {'n_neighbors': 6},\n",
       "  {'n_neighbors': 7},\n",
       "  {'n_neighbors': 8},\n",
       "  {'n_neighbors': 9},\n",
       "  {'n_neighbors': 10},\n",
       "  {'n_neighbors': 11},\n",
       "  {'n_neighbors': 12},\n",
       "  {'n_neighbors': 13},\n",
       "  {'n_neighbors': 14},\n",
       "  {'n_neighbors': 15},\n",
       "  {'n_neighbors': 16},\n",
       "  {'n_neighbors': 17},\n",
       "  {'n_neighbors': 18},\n",
       "  {'n_neighbors': 19},\n",
       "  {'n_neighbors': 20},\n",
       "  {'n_neighbors': 21},\n",
       "  {'n_neighbors': 22},\n",
       "  {'n_neighbors': 23},\n",
       "  {'n_neighbors': 24},\n",
       "  {'n_neighbors': 25},\n",
       "  {'n_neighbors': 26},\n",
       "  {'n_neighbors': 27},\n",
       "  {'n_neighbors': 28},\n",
       "  {'n_neighbors': 29},\n",
       "  {'n_neighbors': 30},\n",
       "  {'n_neighbors': 31},\n",
       "  {'n_neighbors': 32},\n",
       "  {'n_neighbors': 33},\n",
       "  {'n_neighbors': 34},\n",
       "  {'n_neighbors': 35},\n",
       "  {'n_neighbors': 36},\n",
       "  {'n_neighbors': 37},\n",
       "  {'n_neighbors': 38},\n",
       "  {'n_neighbors': 39},\n",
       "  {'n_neighbors': 40},\n",
       "  {'n_neighbors': 41},\n",
       "  {'n_neighbors': 42},\n",
       "  {'n_neighbors': 43},\n",
       "  {'n_neighbors': 44},\n",
       "  {'n_neighbors': 45},\n",
       "  {'n_neighbors': 46},\n",
       "  {'n_neighbors': 47},\n",
       "  {'n_neighbors': 48},\n",
       "  {'n_neighbors': 49}],\n",
       " 'split0_test_score': array([0.39705882, 0.39215686, 0.41666667, 0.48529412, 0.50980392,\n",
       "        0.50980392, 0.53431373, 0.52941176, 0.51960784, 0.51470588,\n",
       "        0.51960784, 0.5245098 , 0.5245098 , 0.50980392, 0.5245098 ,\n",
       "        0.51470588, 0.50980392, 0.51960784, 0.52941176, 0.52941176,\n",
       "        0.53431373, 0.5245098 , 0.53431373, 0.53431373, 0.54411765,\n",
       "        0.53431373, 0.56372549, 0.53431373, 0.53921569, 0.54901961,\n",
       "        0.54901961, 0.54411765, 0.53921569, 0.55882353, 0.55882353,\n",
       "        0.55392157, 0.56372549, 0.56372549, 0.55882353, 0.56862745,\n",
       "        0.55882353, 0.54901961, 0.55882353, 0.55392157, 0.56372549,\n",
       "        0.54901961, 0.54411765, 0.53921569, 0.53431373]),\n",
       " 'split1_test_score': array([0.48529412, 0.49509804, 0.51960784, 0.53921569, 0.56862745,\n",
       "        0.55882353, 0.53921569, 0.51470588, 0.51960784, 0.54411765,\n",
       "        0.54411765, 0.53921569, 0.55882353, 0.54901961, 0.57352941,\n",
       "        0.50980392, 0.53921569, 0.54901961, 0.54411765, 0.52941176,\n",
       "        0.52941176, 0.52941176, 0.54411765, 0.54901961, 0.53921569,\n",
       "        0.54901961, 0.55392157, 0.54901961, 0.53431373, 0.54411765,\n",
       "        0.53921569, 0.55882353, 0.54901961, 0.55882353, 0.56372549,\n",
       "        0.56372549, 0.55882353, 0.55882353, 0.54901961, 0.55882353,\n",
       "        0.55392157, 0.57352941, 0.55392157, 0.56862745, 0.57843137,\n",
       "        0.58823529, 0.57843137, 0.58823529, 0.57843137]),\n",
       " 'split2_test_score': array([0.54901961, 0.5245098 , 0.51960784, 0.53431373, 0.55882353,\n",
       "        0.56372549, 0.56862745, 0.56372549, 0.57352941, 0.57352941,\n",
       "        0.59313725, 0.56372549, 0.6127451 , 0.58823529, 0.57843137,\n",
       "        0.56862745, 0.6127451 , 0.59803922, 0.60784314, 0.61764706,\n",
       "        0.60784314, 0.58823529, 0.59313725, 0.57352941, 0.59803922,\n",
       "        0.58333333, 0.56862745, 0.56372549, 0.57843137, 0.56372549,\n",
       "        0.56862745, 0.56862745, 0.57843137, 0.57843137, 0.59313725,\n",
       "        0.57352941, 0.57352941, 0.57352941, 0.58333333, 0.57352941,\n",
       "        0.57843137, 0.56862745, 0.58333333, 0.58333333, 0.57352941,\n",
       "        0.57352941, 0.56372549, 0.56372549, 0.57352941]),\n",
       " 'split3_test_score': array([0.45812808, 0.5270936 , 0.4679803 , 0.56157635, 0.51724138,\n",
       "        0.57635468, 0.56650246, 0.591133  , 0.59605911, 0.58128079,\n",
       "        0.55665025, 0.57142857, 0.58128079, 0.5862069 , 0.57635468,\n",
       "        0.55172414, 0.57142857, 0.57635468, 0.55665025, 0.57635468,\n",
       "        0.5862069 , 0.55665025, 0.57142857, 0.55665025, 0.56650246,\n",
       "        0.56650246, 0.57142857, 0.57142857, 0.56650246, 0.56157635,\n",
       "        0.56157635, 0.55172414, 0.53694581, 0.54679803, 0.53694581,\n",
       "        0.55172414, 0.54679803, 0.54679803, 0.54187192, 0.54679803,\n",
       "        0.54187192, 0.53694581, 0.54187192, 0.55172414, 0.55172414,\n",
       "        0.55172414, 0.56157635, 0.57142857, 0.56650246]),\n",
       " 'split4_test_score': array([0.50246305, 0.5320197 , 0.50738916, 0.52216749, 0.52216749,\n",
       "        0.48275862, 0.52216749, 0.57142857, 0.53694581, 0.55172414,\n",
       "        0.55172414, 0.55665025, 0.56157635, 0.57142857, 0.57635468,\n",
       "        0.57142857, 0.5862069 , 0.56157635, 0.58128079, 0.57142857,\n",
       "        0.58128079, 0.5862069 , 0.5862069 , 0.58128079, 0.57635468,\n",
       "        0.58128079, 0.57142857, 0.57635468, 0.57635468, 0.5862069 ,\n",
       "        0.57142857, 0.58128079, 0.57635468, 0.57635468, 0.56157635,\n",
       "        0.57142857, 0.55665025, 0.57635468, 0.56157635, 0.56650246,\n",
       "        0.56157635, 0.55665025, 0.55172414, 0.54679803, 0.55665025,\n",
       "        0.55665025, 0.57142857, 0.55172414, 0.55665025]),\n",
       " 'mean_test_score': array([0.47839274, 0.4941756 , 0.48625036, 0.52851347, 0.53533275,\n",
       "        0.53829325, 0.54616536, 0.55408094, 0.54915   , 0.55307157,\n",
       "        0.55304743, 0.55110596, 0.56778711, 0.56093886, 0.56583599,\n",
       "        0.54325799, 0.56388003, 0.56091954, 0.56386072, 0.56485077,\n",
       "        0.56781126, 0.5570028 , 0.56584082, 0.55895876, 0.56484594,\n",
       "        0.56288998, 0.56582633, 0.55896841, 0.55896359, 0.5609292 ,\n",
       "        0.55797353, 0.56091471, 0.55599343, 0.56384623, 0.56284169,\n",
       "        0.56286584, 0.55990534, 0.56384623, 0.55892495, 0.56285618,\n",
       "        0.55892495, 0.55695451, 0.5579349 , 0.5608809 , 0.56481213,\n",
       "        0.56383174, 0.56385589, 0.56286584, 0.56188544]),\n",
       " 'std_test_score': array([0.05028126, 0.05262054, 0.03961812, 0.02509788, 0.02371791,\n",
       "        0.03581257, 0.01834557, 0.02802062, 0.03062431, 0.02352955,\n",
       "        0.02374815, 0.01703957, 0.028966  , 0.02915632, 0.02072183,\n",
       "        0.0262422 , 0.03598839, 0.02632417, 0.02780799, 0.03309049,\n",
       "        0.03072128, 0.02700197, 0.0230519 , 0.01686458, 0.02155718,\n",
       "        0.01885838, 0.00658412, 0.01540779, 0.01863263, 0.01464013,\n",
       "        0.01216186, 0.01300188, 0.01794982, 0.01191876, 0.01792733,\n",
       "        0.00885335, 0.00876101, 0.01064057, 0.01408354, 0.0093236 ,\n",
       "        0.01186069, 0.01322413, 0.01384608, 0.01337704, 0.01000567,\n",
       "        0.01488049, 0.01152911, 0.01673999, 0.01560944]),\n",
       " 'rank_test_score': array([49, 47, 48, 46, 45, 44, 42, 37, 41, 38, 39, 40,  2, 21,  4, 43,  9,\n",
       "        23, 10,  6,  1, 34,  3, 29,  7, 15,  5, 27, 28, 22, 32, 24, 36, 12,\n",
       "        19, 16, 26, 13, 30, 18, 30, 35, 33, 25,  8, 14, 11, 16, 20])}"
      ]
     },
     "execution_count": 151,
     "metadata": {},
     "output_type": "execute_result"
    }
   ],
   "source": [
    "grid.cv_results_"
   ]
  },
  {
   "cell_type": "markdown",
   "id": "d243a85c",
   "metadata": {},
   "source": [
    "# Melhor valor de k"
   ]
  },
  {
   "cell_type": "code",
   "execution_count": 152,
   "id": "dbf13740",
   "metadata": {},
   "outputs": [
    {
     "data": {
      "text/plain": [
       "{'n_neighbors': 21}"
      ]
     },
     "execution_count": 152,
     "metadata": {},
     "output_type": "execute_result"
    }
   ],
   "source": [
    "grid.best_params_"
   ]
  },
  {
   "cell_type": "markdown",
   "id": "0571f3f3",
   "metadata": {},
   "source": [
    "# Melhor acurácia"
   ]
  },
  {
   "cell_type": "code",
   "execution_count": 153,
   "id": "64733203",
   "metadata": {},
   "outputs": [
    {
     "data": {
      "text/plain": [
       "0.5678112624360089"
      ]
     },
     "execution_count": 153,
     "metadata": {},
     "output_type": "execute_result"
    }
   ],
   "source": [
    "grid.best_score_"
   ]
  },
  {
   "cell_type": "markdown",
   "id": "0fd6cf6e",
   "metadata": {},
   "source": [
    "# Agora sabemos que com k = 21 temos 56% de acurácia"
   ]
  },
  {
   "cell_type": "markdown",
   "id": "8e418743",
   "metadata": {},
   "source": [
    "# Visualizando a escolha de k"
   ]
  },
  {
   "cell_type": "code",
   "execution_count": 154,
   "id": "723005da",
   "metadata": {},
   "outputs": [
    {
     "data": {
      "image/png": "[encoded data removed]",
      "text/plain": [
       "<Figure size 720x432 with 1 Axes>"
      ]
     },
     "metadata": {
      "needs_background": "light"
     },
     "output_type": "display_data"
    }
   ],
   "source": [
    "scores = grid.cv_results_['mean_test_score'].tolist()\n",
    "# Renderizando gráfico\n",
    "plt.figure(figsize=(10,6))\n",
    "plt.plot(k_list,scores,color='red',linestyle='dashed',marker='o')\n",
    "plt.xlabel('k')\n",
    "plt.ylabel('accuracy')\n",
    "plt.grid()\n",
    "plt.show()"
   ]
  },
  {
   "cell_type": "markdown",
   "id": "14b75472",
   "metadata": {},
   "source": [
    "# Nota-se que depois de K ~ 14 temos estabilidade. "
   ]
  }
 ],
 "metadata": {
  "kernelspec": {
   "display_name": "Python 3",
   "language": "python",
   "name": "python3"
  },
  "language_info": {
   "codemirror_mode": {
    "name": "ipython",
    "version": 3
   },
   "file_extension": ".py",
   "mimetype": "text/x-python",
   "name": "python",
   "nbconvert_exporter": "python",
   "pygments_lexer": "ipython3",
   "version": "3.8.8"
  }
 },
 "nbformat": 4,
 "nbformat_minor": 5
}
